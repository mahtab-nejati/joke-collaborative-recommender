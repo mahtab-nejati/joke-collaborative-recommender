{
 "cells": [
  {
   "cell_type": "markdown",
   "metadata": {},
   "source": [
    "# Problem 05\n",
    "# Mahtab Nejati\n",
    "# 98209434\n",
    "## Please download the data from the link below\n",
    "### https://drive.google.com/drive/folders/1-IwpWHjtZDzpFXUHo5n7M_9ZmMpw_GG5?usp=sharing"
   ]
  },
  {
   "cell_type": "code",
   "execution_count": 1,
   "metadata": {},
   "outputs": [],
   "source": [
    "import numpy as np\n",
    "import pandas as pd\n",
    "from sklearn.metrics.pairwise import cosine_similarity\n",
    "from bs4 import BeautifulSoup\n",
    "from IPython.display import display\n",
    "\n",
    "# pd.options.display.max_colwidth = 1000\n",
    "# pd.options.display.max_rows=100"
   ]
  },
  {
   "cell_type": "markdown",
   "metadata": {},
   "source": [
    "## Getting the rating dataset in file \"./HW3_P05_Data_MahtabNejati_98209434/jester-data-2.xls\""
   ]
  },
  {
   "cell_type": "code",
   "execution_count": 2,
   "metadata": {},
   "outputs": [],
   "source": [
    "def getRatings(filePath=\"./HW3_P05_Data_MahtabNejati_98209434/jester-data-2.xls\"):\n",
    "    df = pd.read_excel(filePath,header=None)\n",
    "    df.index += 1\n",
    "    df.columns = ['counts']+list(range(1,101))\n",
    "    df = df.drop(['counts'],axis=1)\n",
    "    return df"
   ]
  },
  {
   "cell_type": "markdown",
   "metadata": {},
   "source": [
    "## Normalizing the matrix for calculations"
   ]
  },
  {
   "cell_type": "code",
   "execution_count": 3,
   "metadata": {},
   "outputs": [],
   "source": [
    "def normalize(matrix):\n",
    "    matrix[matrix == 99.0] = np.NaN\n",
    "    means = np.nanmean(matrix,axis=1)\n",
    "    full_means = np.array([means,]*matrix.shape[1]).transpose()\n",
    "    matrix = matrix - full_means\n",
    "    matrix[np.isnan(matrix)]=0\n",
    "    return matrix"
   ]
  },
  {
   "cell_type": "markdown",
   "metadata": {},
   "source": [
    "## Getting similarities (user-user and item-item)"
   ]
  },
  {
   "cell_type": "code",
   "execution_count": 4,
   "metadata": {},
   "outputs": [],
   "source": [
    "def getSimilarities(matrix,axis):\n",
    "    if axis:\n",
    "        return cosine_similarity(matrix)\n",
    "    else:\n",
    "        return cosine_similarity(matrix.T)"
   ]
  },
  {
   "cell_type": "markdown",
   "metadata": {},
   "source": [
    "## Getting ready to recommend items"
   ]
  },
  {
   "cell_type": "code",
   "execution_count": 5,
   "metadata": {},
   "outputs": [],
   "source": [
    "def processData():\n",
    "    df = getRatings()\n",
    "    matrix = df.to_numpy(dtype=float).copy()\n",
    "    similarities = []\n",
    "    for axis in [0,1]:\n",
    "        similarities.append(getSimilarities(normalize(matrix),axis))\n",
    "    item_df = pd.DataFrame(similarities[0],index=df.columns,columns=df.columns)\n",
    "    user_df = pd.DataFrame(similarities[1],index=df.index,columns=df.index)\n",
    "    orig_df = df.copy()\n",
    "    orig_df[orig_df == 99.] = np.NAN\n",
    "    return item_df,user_df,orig_df"
   ]
  },
  {
   "cell_type": "markdown",
   "metadata": {},
   "source": [
    "# Making recommendations"
   ]
  },
  {
   "cell_type": "code",
   "execution_count": 6,
   "metadata": {},
   "outputs": [],
   "source": [
    "def getUserTopK(uid,k,df):\n",
    "    user_vector = list(dict(df.loc[uid]).items())\n",
    "    rated_vector = []\n",
    "    rated = []\n",
    "    for pair in user_vector:\n",
    "        if not np.isnan(pair[1]):\n",
    "            rated_vector.append(pair)\n",
    "            rated.append(pair[0])\n",
    "    user_top_k = sorted(rated_vector,key=lambda pair: -pair[1])[:k]\n",
    "    return rated,user_top_k\n",
    "\n",
    "def getItemBasedRecom(uid,k,sims,df):\n",
    "    rated,top_k = getUserTopK(uid,k,df)\n",
    "    recoms = []\n",
    "    for item in top_k:\n",
    "        similars = sims[item[0]]*item[1]\n",
    "        similars = similars.sort_values(ascending=False)\n",
    "        count = 0\n",
    "        for item,score in similars.iteritems():\n",
    "            if item not in rated:\n",
    "                recoms.append((item,score))\n",
    "                count +=1\n",
    "                if count == k:\n",
    "                    break\n",
    "    return recoms\n",
    "\n",
    "def getUserBasedRecom(uid,k,sims,df):\n",
    "    rated,top_k = getUserTopK(uid,k,df)\n",
    "    recoms = []\n",
    "    similars = sims[uid]\n",
    "    similars = similars.sort_values(ascending=False)\n",
    "    countUsers = 0\n",
    "    for user,sim in similars.iteritems():\n",
    "        if user != uid:\n",
    "            user_pref = df.loc[user]*sim\n",
    "            user_pref = user_pref.sort_values(ascending=False)\n",
    "            countItems = 0\n",
    "            for item,score in user_pref.iteritems():\n",
    "                if item not in rated:\n",
    "                    recoms.append((item,score))\n",
    "                    countItems +=1\n",
    "                    if countItems == k:\n",
    "                        break\n",
    "            countUsers += 1\n",
    "            if countUsers == k:\n",
    "                break\n",
    "    return recoms\n",
    "\n",
    "def getRecoms(uid,k,df,itemSims,userSims):\n",
    "    rated,top_k = getUserTopK(uid,k,df)\n",
    "    print('\\n'+75*'='+'\\nThis user has rated '+str(len(rated))+' jokes.')\n",
    "    print('Recommentations will be made out of the remaining '+str(100-len(rated))+' jokes.\\n'+75*'='+'\\n')\n",
    "    item_based = getItemBasedRecom(uid,k,itemSims,df)\n",
    "    user_based = getUserBasedRecom(uid,k,userSims,df)\n",
    "    recoms = item_based+user_based\n",
    "    rec_df = pd.DataFrame(recoms,columns=['joke_id','score']).sort_values(['score'],ascending=False)\n",
    "    indexes = rec_df.groupby(['joke_id'])['score'].transform(max) == rec_df['score']\n",
    "    return rec_df[indexes].head(k)"
   ]
  },
  {
   "cell_type": "markdown",
   "metadata": {},
   "source": [
    "## Getting joke text"
   ]
  },
  {
   "cell_type": "code",
   "execution_count": 7,
   "metadata": {},
   "outputs": [],
   "source": [
    "def getJoke(i):\n",
    "    with open('./HW3_P05_Data_MahtabNejati_98209434/jokes/init'+str(i)+'.html') as f:\n",
    "        joke = f.read()\n",
    "    soup = BeautifulSoup(joke)\n",
    "    body = soup.find('body').text\n",
    "    joke = body.replace('\\n','')\n",
    "    return joke.strip()"
   ]
  },
  {
   "cell_type": "markdown",
   "metadata": {},
   "source": [
    "## Main"
   ]
  },
  {
   "cell_type": "code",
   "execution_count": 8,
   "metadata": {},
   "outputs": [],
   "source": [
    "itemSims,userSims,df = processData()"
   ]
  },
  {
   "cell_type": "markdown",
   "metadata": {},
   "source": [
    "## Ask for recommendations"
   ]
  },
  {
   "cell_type": "code",
   "execution_count": 9,
   "metadata": {},
   "outputs": [
    {
     "name": "stdout",
     "output_type": "stream",
     "text": [
      "\n",
      "***************************************************************************\n",
      "\n"
     ]
    },
    {
     "name": "stdin",
     "output_type": "stream",
     "text": [
      "Enter the user ID {1...23500}:  23456\n",
      "Enter the number of recommendations you'ld like to get:  10\n"
     ]
    },
    {
     "name": "stdout",
     "output_type": "stream",
     "text": [
      "\n",
      "***************************************************************************\n",
      "\n",
      "\n",
      "===========================================================================\n",
      "This user has rated 44 jokes.\n",
      "Recommentations will be made out of the remaining 56 jokes.\n",
      "===========================================================================\n",
      "\n"
     ]
    },
    {
     "data": {
      "text/html": [
       "<div>\n",
       "<style scoped>\n",
       "    .dataframe tbody tr th:only-of-type {\n",
       "        vertical-align: middle;\n",
       "    }\n",
       "\n",
       "    .dataframe tbody tr th {\n",
       "        vertical-align: top;\n",
       "    }\n",
       "\n",
       "    .dataframe thead th {\n",
       "        text-align: right;\n",
       "    }\n",
       "</style>\n",
       "<table border=\"1\" class=\"dataframe\">\n",
       "  <thead>\n",
       "    <tr style=\"text-align: right;\">\n",
       "      <th></th>\n",
       "      <th>joke_id</th>\n",
       "      <th>score</th>\n",
       "      <th>joke</th>\n",
       "    </tr>\n",
       "  </thead>\n",
       "  <tbody>\n",
       "    <tr>\n",
       "      <th>170</th>\n",
       "      <td>6</td>\n",
       "      <td>4.533079</td>\n",
       "      <td>Bill &amp; Hillary are on a trip back to Arkansas....</td>\n",
       "    </tr>\n",
       "    <tr>\n",
       "      <th>110</th>\n",
       "      <td>55</td>\n",
       "      <td>4.485214</td>\n",
       "      <td>A woman has twins, and gives them up for adopt...</td>\n",
       "    </tr>\n",
       "    <tr>\n",
       "      <th>130</th>\n",
       "      <td>84</td>\n",
       "      <td>4.395450</td>\n",
       "      <td>Q: What is the difference between Mechanical E...</td>\n",
       "    </tr>\n",
       "    <tr>\n",
       "      <th>160</th>\n",
       "      <td>28</td>\n",
       "      <td>4.241005</td>\n",
       "      <td>A mechanical, electrical and a software engine...</td>\n",
       "    </tr>\n",
       "    <tr>\n",
       "      <th>161</th>\n",
       "      <td>1</td>\n",
       "      <td>4.191110</td>\n",
       "      <td>A man visits the doctor. The doctor says \"I ha...</td>\n",
       "    </tr>\n",
       "    <tr>\n",
       "      <th>131</th>\n",
       "      <td>70</td>\n",
       "      <td>4.091954</td>\n",
       "      <td>Employer to applicant: \"In this job we need so...</td>\n",
       "    </tr>\n",
       "    <tr>\n",
       "      <th>190</th>\n",
       "      <td>3</td>\n",
       "      <td>3.686994</td>\n",
       "      <td>Q. What's 200 feet long and has 4 teeth? A. Th...</td>\n",
       "    </tr>\n",
       "    <tr>\n",
       "      <th>180</th>\n",
       "      <td>59</td>\n",
       "      <td>3.267925</td>\n",
       "      <td>The Chukcha (Russian Eskimo) phones up the Rus...</td>\n",
       "    </tr>\n",
       "    <tr>\n",
       "      <th>181</th>\n",
       "      <td>58</td>\n",
       "      <td>3.267925</td>\n",
       "      <td>How many teddybears does it take to change a l...</td>\n",
       "    </tr>\n",
       "    <tr>\n",
       "      <th>162</th>\n",
       "      <td>10</td>\n",
       "      <td>3.243121</td>\n",
       "      <td>Two cannibals are eating a clown, one turns to...</td>\n",
       "    </tr>\n",
       "  </tbody>\n",
       "</table>\n",
       "</div>"
      ],
      "text/plain": [
       "     joke_id     score                                               joke\n",
       "170        6  4.533079  Bill & Hillary are on a trip back to Arkansas....\n",
       "110       55  4.485214  A woman has twins, and gives them up for adopt...\n",
       "130       84  4.395450  Q: What is the difference between Mechanical E...\n",
       "160       28  4.241005  A mechanical, electrical and a software engine...\n",
       "161        1  4.191110  A man visits the doctor. The doctor says \"I ha...\n",
       "131       70  4.091954  Employer to applicant: \"In this job we need so...\n",
       "190        3  3.686994  Q. What's 200 feet long and has 4 teeth? A. Th...\n",
       "180       59  3.267925  The Chukcha (Russian Eskimo) phones up the Rus...\n",
       "181       58  3.267925  How many teddybears does it take to change a l...\n",
       "162       10  3.243121  Two cannibals are eating a clown, one turns to..."
      ]
     },
     "metadata": {},
     "output_type": "display_data"
    },
    {
     "name": "stdout",
     "output_type": "stream",
     "text": [
      "\n",
      "\n",
      "###########################################################################\n"
     ]
    },
    {
     "name": "stdin",
     "output_type": "stream",
     "text": [
      "\n",
      "Wish to continue (y/n):  y\n"
     ]
    },
    {
     "name": "stdout",
     "output_type": "stream",
     "text": [
      "\n",
      "###########################################################################\n",
      "\n",
      "***************************************************************************\n",
      "\n"
     ]
    },
    {
     "name": "stdin",
     "output_type": "stream",
     "text": [
      "Enter the user ID {1...23500}:  9876\n",
      "Enter the number of recommendations you'ld like to get:  30\n"
     ]
    },
    {
     "name": "stdout",
     "output_type": "stream",
     "text": [
      "\n",
      "***************************************************************************\n",
      "\n",
      "\n",
      "===========================================================================\n",
      "This user has rated 100 jokes.\n",
      "Recommentations will be made out of the remaining 0 jokes.\n",
      "===========================================================================\n",
      "\n"
     ]
    },
    {
     "data": {
      "text/html": [
       "<div>\n",
       "<style scoped>\n",
       "    .dataframe tbody tr th:only-of-type {\n",
       "        vertical-align: middle;\n",
       "    }\n",
       "\n",
       "    .dataframe tbody tr th {\n",
       "        vertical-align: top;\n",
       "    }\n",
       "\n",
       "    .dataframe thead th {\n",
       "        text-align: right;\n",
       "    }\n",
       "</style>\n",
       "<table border=\"1\" class=\"dataframe\">\n",
       "  <thead>\n",
       "    <tr style=\"text-align: right;\">\n",
       "      <th></th>\n",
       "      <th>joke_id</th>\n",
       "      <th>score</th>\n",
       "      <th>joke</th>\n",
       "    </tr>\n",
       "  </thead>\n",
       "  <tbody>\n",
       "  </tbody>\n",
       "</table>\n",
       "</div>"
      ],
      "text/plain": [
       "Empty DataFrame\n",
       "Columns: [joke_id, score, joke]\n",
       "Index: []"
      ]
     },
     "metadata": {},
     "output_type": "display_data"
    },
    {
     "name": "stdout",
     "output_type": "stream",
     "text": [
      "\n",
      "\n",
      "###########################################################################\n"
     ]
    },
    {
     "name": "stdin",
     "output_type": "stream",
     "text": [
      "\n",
      "Wish to continue (y/n):  y\n"
     ]
    },
    {
     "name": "stdout",
     "output_type": "stream",
     "text": [
      "\n",
      "###########################################################################\n",
      "\n",
      "***************************************************************************\n",
      "\n"
     ]
    },
    {
     "name": "stdin",
     "output_type": "stream",
     "text": [
      "Enter the user ID {1...23500}:  4567\n",
      "Enter the number of recommendations you'ld like to get:  5\n"
     ]
    },
    {
     "name": "stdout",
     "output_type": "stream",
     "text": [
      "\n",
      "***************************************************************************\n",
      "\n",
      "\n",
      "===========================================================================\n",
      "This user has rated 38 jokes.\n",
      "Recommentations will be made out of the remaining 62 jokes.\n",
      "===========================================================================\n",
      "\n"
     ]
    },
    {
     "data": {
      "text/html": [
       "<div>\n",
       "<style scoped>\n",
       "    .dataframe tbody tr th:only-of-type {\n",
       "        vertical-align: middle;\n",
       "    }\n",
       "\n",
       "    .dataframe tbody tr th {\n",
       "        vertical-align: top;\n",
       "    }\n",
       "\n",
       "    .dataframe thead th {\n",
       "        text-align: right;\n",
       "    }\n",
       "</style>\n",
       "<table border=\"1\" class=\"dataframe\">\n",
       "  <thead>\n",
       "    <tr style=\"text-align: right;\">\n",
       "      <th></th>\n",
       "      <th>joke_id</th>\n",
       "      <th>score</th>\n",
       "      <th>joke</th>\n",
       "    </tr>\n",
       "  </thead>\n",
       "  <tbody>\n",
       "    <tr>\n",
       "      <th>41</th>\n",
       "      <td>39</td>\n",
       "      <td>5.517179</td>\n",
       "      <td>What is the difference between men and women:A...</td>\n",
       "    </tr>\n",
       "    <tr>\n",
       "      <th>40</th>\n",
       "      <td>70</td>\n",
       "      <td>5.517179</td>\n",
       "      <td>Employer to applicant: \"In this job we need so...</td>\n",
       "    </tr>\n",
       "    <tr>\n",
       "      <th>42</th>\n",
       "      <td>63</td>\n",
       "      <td>5.288550</td>\n",
       "      <td>An engineer, a physicist and a mathematician a...</td>\n",
       "    </tr>\n",
       "    <tr>\n",
       "      <th>43</th>\n",
       "      <td>12</td>\n",
       "      <td>4.410133</td>\n",
       "      <td>A guy stood over his tee shot for what seemed ...</td>\n",
       "    </tr>\n",
       "    <tr>\n",
       "      <th>44</th>\n",
       "      <td>64</td>\n",
       "      <td>3.273005</td>\n",
       "      <td>What is the rallying cry of the International ...</td>\n",
       "    </tr>\n",
       "  </tbody>\n",
       "</table>\n",
       "</div>"
      ],
      "text/plain": [
       "    joke_id     score                                               joke\n",
       "41       39  5.517179  What is the difference between men and women:A...\n",
       "40       70  5.517179  Employer to applicant: \"In this job we need so...\n",
       "42       63  5.288550  An engineer, a physicist and a mathematician a...\n",
       "43       12  4.410133  A guy stood over his tee shot for what seemed ...\n",
       "44       64  3.273005  What is the rallying cry of the International ..."
      ]
     },
     "metadata": {},
     "output_type": "display_data"
    },
    {
     "name": "stdout",
     "output_type": "stream",
     "text": [
      "\n",
      "\n",
      "###########################################################################\n"
     ]
    },
    {
     "name": "stdin",
     "output_type": "stream",
     "text": [
      "\n",
      "Wish to continue (y/n):  n\n"
     ]
    },
    {
     "name": "stdout",
     "output_type": "stream",
     "text": [
      "\n",
      "###########################################################################\n"
     ]
    }
   ],
   "source": [
    "again = True\n",
    "while(again):\n",
    "    print('\\n'+75*'*'+'\\n')\n",
    "    user_id = int(input(\"Enter the user ID {1...23500}: \"))\n",
    "    k = int(input(\"Enter the number of recommendations you'ld like to get: \"))\n",
    "    print('\\n'+75*'*'+'\\n')\n",
    "    recoms = getRecoms(user_id,k,df,itemSims,userSims)\n",
    "    items = list(recoms['joke_id'])\n",
    "    jokes = []\n",
    "    for i in items:\n",
    "        joke = getJoke(i)\n",
    "        jokes.append(joke)\n",
    "    recoms['joke']=jokes\n",
    "    display(recoms)\n",
    "    print('\\n\\n'+75*'#')\n",
    "    again = (input(\"\\nWish to continue (y/n): \").lower() == 'y')\n",
    "    print('\\n'+75*'#')"
   ]
  },
  {
   "cell_type": "code",
   "execution_count": null,
   "metadata": {},
   "outputs": [],
   "source": []
  }
 ],
 "metadata": {
  "kernelspec": {
   "display_name": "Python 3.7.4 64-bit ('anaconda3': virtualenv)",
   "language": "python",
   "name": "python37464bitanaconda3virtualenv9f0a0eab11fa4f7d9838725065c25f15"
  },
  "language_info": {
   "codemirror_mode": {
    "name": "ipython",
    "version": 3
   },
   "file_extension": ".py",
   "mimetype": "text/x-python",
   "name": "python",
   "nbconvert_exporter": "python",
   "pygments_lexer": "ipython3",
   "version": "3.7.7"
  }
 },
 "nbformat": 4,
 "nbformat_minor": 4
}
